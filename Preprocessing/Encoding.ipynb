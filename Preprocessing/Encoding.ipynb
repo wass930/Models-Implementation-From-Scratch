{
 "cells": [
  {
   "cell_type": "code",
   "execution_count": 34,
   "id": "1dac0d46",
   "metadata": {},
   "outputs": [],
   "source": [
    "class LabelEncoder:\n",
    "    def fit(self, y):\n",
    "        if (y.ndim==1) or (y.ndim==2 and y.shape[1]==1):\n",
    "            arr = np.unique(np.sort(y))\n",
    "            self.d={}\n",
    "            for i,j in enumerate(arr):\n",
    "                self.d[j]=i\n",
    "            return self\n",
    "        else:\n",
    "            raise ValueError(\"y should be a 1d array, got an array of shape {} instead\".format(y.shape))\n",
    "            \n",
    "    \n",
    "    def transform(self, y):\n",
    "        return np.vectorize(self._encode_value)(y)\n",
    "    \n",
    "    def _encode_value(self, value):\n",
    "        try:\n",
    "            return self.d.get(value, -1)  \n",
    "        except:\n",
    "            raise Exception(\"This instance of encoder is not fitted yet\")\n",
    "            \n",
    "    def fit_transform(self, y):\n",
    "        self.fit(y)\n",
    "        self.transform(y)\n",
    "        \n",
    "    def _reverse_dict(self):\n",
    "        try:\n",
    "            return {value: key for key, value in self.d.items()}\n",
    "        except:\n",
    "            raise Exception(\"This instance of encoder is not fitted yet\")\n",
    "    \n",
    "    def inverse_transform(self, y):\n",
    "        self.d = self._reverse_dict()\n",
    "        return np.vectorize(self._encode_value)(y)"
   ]
  },
  {
   "cell_type": "code",
   "execution_count": null,
   "id": "a8104e35",
   "metadata": {},
   "outputs": [],
   "source": []
  }
 ],
 "metadata": {
  "kernelspec": {
   "display_name": "Python 3 (ipykernel)",
   "language": "python",
   "name": "python3"
  },
  "language_info": {
   "codemirror_mode": {
    "name": "ipython",
    "version": 3
   },
   "file_extension": ".py",
   "mimetype": "text/x-python",
   "name": "python",
   "nbconvert_exporter": "python",
   "pygments_lexer": "ipython3",
   "version": "3.9.7"
  }
 },
 "nbformat": 4,
 "nbformat_minor": 5
}
