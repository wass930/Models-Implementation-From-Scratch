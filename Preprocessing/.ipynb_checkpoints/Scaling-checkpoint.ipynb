{
 "cells": [
  {
   "cell_type": "markdown",
   "id": "0646c93c",
   "metadata": {},
   "source": [
    "# Min Max Scaler"
   ]
  },
  {
   "cell_type": "code",
   "execution_count": 91,
   "id": "5ff3d71b",
   "metadata": {},
   "outputs": [],
   "source": [
    "import numpy as np\n",
    "import pandas as pd\n",
    "\n",
    "class MinMaxScaler:\n",
    "    def fit(self, X):\n",
    "        self._min = X.min()\n",
    "        self._max = X.max()\n",
    "        \n",
    "    def transform(self, X):\n",
    "        return (X - self._min) / (self._max - self._min)\n",
    "    \n",
    "    def fit_transform(self,X):\n",
    "        self.fit(X)\n",
    "        X = (X - self._min) / (self._max - self._min)\n",
    "        return X\n",
    "    \n",
    "    def inverse_transform(self, X):\n",
    "        return X * (self._max - self._min) + self._min\n",
    "        \n",
    "        "
   ]
  },
  {
   "cell_type": "code",
   "execution_count": 30,
   "id": "42c47c7a",
   "metadata": {},
   "outputs": [],
   "source": [
    "def minmaxscaler(vec):\n",
    "    min_vec = np.min(vec, axis=1).reshape(vec.shape[0],1)\n",
    "    max_vec = np.max(vec, axis=1).reshape(vec.shape[0],1)\n",
    "    return (age-min_vec) / (max_vec-min_vec)"
   ]
  },
  {
   "cell_type": "markdown",
   "id": "833e9fc7",
   "metadata": {},
   "source": [
    "# Standard Scaler"
   ]
  },
  {
   "cell_type": "code",
   "execution_count": 45,
   "id": "644f3735",
   "metadata": {},
   "outputs": [],
   "source": [
    "def mean(vec):\n",
    "    return np.sum(vec, axis=1)/vec.shape[1]"
   ]
  },
  {
   "cell_type": "code",
   "execution_count": 65,
   "id": "ed25e1c4",
   "metadata": {},
   "outputs": [
    {
     "data": {
      "text/plain": [
       "array([1.0376e+02, 1.6304e+06])"
      ]
     },
     "execution_count": 65,
     "metadata": {},
     "output_type": "execute_result"
    }
   ],
   "source": [
    "def var(vec):\n",
    "    return np.sum((vec-mean(vec).reshape((vec.shape[0],1)))**2, axis=1)/vec.shape[1]\n",
    "var(arr)"
   ]
  },
  {
   "cell_type": "code",
   "execution_count": 66,
   "id": "71d40e45",
   "metadata": {},
   "outputs": [
    {
     "data": {
      "text/plain": [
       "array([  10.18626526, 1276.87117596])"
      ]
     },
     "execution_count": 66,
     "metadata": {},
     "output_type": "execute_result"
    }
   ],
   "source": [
    "def std(vec):\n",
    "    return np.sqrt(var(vec))\n",
    "std(arr)"
   ]
  },
  {
   "cell_type": "code",
   "execution_count": 56,
   "id": "3044e382",
   "metadata": {},
   "outputs": [],
   "source": [
    "class StandardScaler:\n",
    "    def fit(self, X):\n",
    "        self._mean = X.mean()\n",
    "        self._std = X.std()\n",
    "        \n",
    "    def transform(self, X):\n",
    "        return (X - self._mean) / self._std\n",
    "    \n",
    "    def fit_transform(self,X):\n",
    "        self.fit(self, X):\n",
    "        X = (X - self._mean) / self._std\n",
    "        return X\n",
    "    \n",
    "    def inverse_transform(self, X):\n",
    "        return X * self._std + self._mean"
   ]
  },
  {
   "cell_type": "markdown",
   "id": "6e170677",
   "metadata": {},
   "source": [
    "# Robust Scaler"
   ]
  },
  {
   "cell_type": "code",
   "execution_count": 89,
   "id": "bb32a923",
   "metadata": {},
   "outputs": [],
   "source": [
    "class RobustScaler:\n",
    "    def fit(self, X):\n",
    "        self._iqr = X.quantile(0.75) - X.quantile(0.25)\n",
    "        self._median = X.median()\n",
    "        \n",
    "    def transform(self, X):\n",
    "        return (X - self._median) / self._iqr\n",
    "    \n",
    "    def fit_transform(self,X):\n",
    "        self.fit(X)\n",
    "        X = (X - self._median) / self._iqr\n",
    "        return X\n",
    "    \n",
    "    def inverse_transform(self, X):\n",
    "        return X * self._iqr + self._median"
   ]
  },
  {
   "cell_type": "code",
   "execution_count": null,
   "id": "664aa6d6",
   "metadata": {},
   "outputs": [],
   "source": []
  }
 ],
 "metadata": {
  "kernelspec": {
   "display_name": "Python 3 (ipykernel)",
   "language": "python",
   "name": "python3"
  },
  "language_info": {
   "codemirror_mode": {
    "name": "ipython",
    "version": 3
   },
   "file_extension": ".py",
   "mimetype": "text/x-python",
   "name": "python",
   "nbconvert_exporter": "python",
   "pygments_lexer": "ipython3",
   "version": "3.9.7"
  }
 },
 "nbformat": 4,
 "nbformat_minor": 5
}
