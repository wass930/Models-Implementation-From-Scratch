{
 "cells": [
  {
   "cell_type": "code",
   "execution_count": 4,
   "id": "31e572cf",
   "metadata": {},
   "outputs": [],
   "source": [
    "import numpy as np\n",
    "\n",
    "class NaiveBayesClassifier:\n",
    "    def __init__(self):\n",
    "        self.class_probabilities = None\n",
    "        self.feature_probabilities = None\n",
    "        self.classes = None\n",
    "        self.unique_features = None\n",
    "\n",
    "    def fit(self, X, y):\n",
    "        self.classes, class_counts = np.unique(y, return_counts=True)\n",
    "        self.class_probabilities = class_counts / len(y)\n",
    "        \n",
    "        self.unique_features = np.unique(X)\n",
    "        num_features = len(self.unique_features)\n",
    "        self.feature_probabilities = np.zeros((len(self.classes), num_features))\n",
    "\n",
    "        for i, cls in enumerate(self.classes):\n",
    "            class_instances = X[y == cls]\n",
    "            total_instances = len(class_instances)\n",
    "            \n",
    "            for j, feature in enumerate(self.unique_features):\n",
    "                feature_count = np.sum(class_instances == feature)\n",
    "                self.feature_probabilities[i, j] = (feature_count + 1) / (total_instances + num_features)\n",
    "\n",
    "    def predict(self, X):\n",
    "        predictions = []\n",
    "\n",
    "        for instance in X:\n",
    "            instance_probabilities = []\n",
    "\n",
    "            for i, cls in enumerate(self.classes):\n",
    "                class_probability = np.log(self.class_probabilities[i])\n",
    "\n",
    "                for j, feature in enumerate(instance):\n",
    "                    feature_index = np.where(self.unique_features == feature)[0]\n",
    "                    if len(feature_index) > 0:\n",
    "                        feature_probability = np.log(self.feature_probabilities[i, feature_index[0]])\n",
    "                        class_probability += feature_probability\n",
    "\n",
    "                instance_probabilities.append(class_probability)\n",
    "\n",
    "            predicted_class = self.classes[np.argmax(instance_probabilities)]\n",
    "            predictions.append(predicted_class)\n",
    "\n",
    "        return predictions\n",
    "    \n",
    "    def score(self, X, y):\n",
    "        y_pred = self.predict(X)\n",
    "        l = [y_pred[i] == y[i] for i in range(len(y))]\n",
    "        return (sum(l)/len(l))"
   ]
  },
  {
   "cell_type": "code",
   "execution_count": 2,
   "id": "d6cdc404",
   "metadata": {},
   "outputs": [],
   "source": [
    "from sklearn.datasets import load_iris \n",
    "from sklearn.model_selection import train_test_split\n",
    "\n",
    "irisData = load_iris() \n",
    "  \n",
    "X = irisData.data \n",
    "y = irisData.target\n",
    "\n",
    "X_train, X_test, y_train, y_test = train_test_split(X, y, test_size=0.2, random_state=0)"
   ]
  },
  {
   "cell_type": "code",
   "execution_count": 5,
   "id": "48154844",
   "metadata": {},
   "outputs": [
    {
     "data": {
      "text/plain": [
       "0.8333333333333334"
      ]
     },
     "execution_count": 5,
     "metadata": {},
     "output_type": "execute_result"
    }
   ],
   "source": [
    "bayes = NaiveBayesClassifier()\n",
    "bayes.fit(X_train, y_train)\n",
    "bayes.predict(X_test)\n",
    "bayes.score(X_test, y_test)"
   ]
  },
  {
   "cell_type": "code",
   "execution_count": null,
   "id": "39b5a493",
   "metadata": {},
   "outputs": [],
   "source": []
  }
 ],
 "metadata": {
  "kernelspec": {
   "display_name": "Python 3 (ipykernel)",
   "language": "python",
   "name": "python3"
  },
  "language_info": {
   "codemirror_mode": {
    "name": "ipython",
    "version": 3
   },
   "file_extension": ".py",
   "mimetype": "text/x-python",
   "name": "python",
   "nbconvert_exporter": "python",
   "pygments_lexer": "ipython3",
   "version": "3.9.7"
  }
 },
 "nbformat": 4,
 "nbformat_minor": 5
}
