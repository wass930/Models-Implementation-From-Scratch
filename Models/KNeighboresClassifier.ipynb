{
 "cells": [
  {
   "cell_type": "code",
   "execution_count": 2,
   "id": "d619f172",
   "metadata": {},
   "outputs": [],
   "source": [
    "import numpy as np\n",
    "import pandas as pd"
   ]
  },
  {
   "cell_type": "code",
   "execution_count": 3,
   "id": "e09fe076",
   "metadata": {},
   "outputs": [],
   "source": [
    "class KNearestNeighborsClassifier():\n",
    "    def __init__(self, n_neighbors=5, distance='euclidean'):\n",
    "        self.n_neighbors = n_neighbors\n",
    "        self.distance = distance\n",
    "        \n",
    "    def fit(self, X, y):\n",
    "        self.X = X\n",
    "        self.y = y\n",
    "        return self\n",
    "    \n",
    "    def predict(self, X):\n",
    "        y_pred=[]\n",
    "        distances = self._calculate_distances(X)\n",
    "        for sample in distances:\n",
    "            most_neighbors_samples = list(sample.keys())[:self.n_neighbors]\n",
    "            most_neighbors_classes = [self.y[sample] for sample in most_neighbors_samples]\n",
    "            d= {}\n",
    "            for cls in set(most_neighbors_classes):\n",
    "                d[cls] = most_neighbors_classes.count(cls)\n",
    "            y_pred.append(self._get_key_by_value(d, max(d.values())))\n",
    "        return y_pred\n",
    "    \n",
    "    def score(self, X, y):\n",
    "        y_pred = self.predict(X)\n",
    "        l = [y_pred[i] == y[i] for i in range(len(y))]\n",
    "        return (sum(l)/len(l))\n",
    "    \n",
    "    def _calculate_distances(self, X):\n",
    "        if self.distance == \"euclidean\":\n",
    "            distances = []\n",
    "            for i in X:\n",
    "                d={}\n",
    "                C = np.sqrt(np.sum((self.X-i)**2, axis=1))\n",
    "                for i, j in enumerate(C):\n",
    "                    d[i] = j\n",
    "                d = dict(sorted(d.items(), key=lambda item: item[1]))\n",
    "                distances.append(d)\n",
    "        else:\n",
    "            pass\n",
    "        return distances\n",
    "    \n",
    "    def _get_key_by_value(self, dictionary, value):\n",
    "        for key, val in dictionary.items():\n",
    "            if val == value:\n",
    "                return key\n",
    "            "
   ]
  },
  {
   "cell_type": "code",
   "execution_count": 4,
   "id": "3f70bd93",
   "metadata": {},
   "outputs": [],
   "source": [
    "from sklearn.datasets import load_iris \n",
    "from sklearn.model_selection import train_test_split\n",
    "\n",
    "irisData = load_iris() \n",
    "  \n",
    "X = irisData.data \n",
    "y = irisData.target\n",
    "\n",
    "X_train, X_test, y_train, y_test = train_test_split(X, y, test_size=0.2, random_state=0)"
   ]
  },
  {
   "cell_type": "code",
   "execution_count": 5,
   "id": "1b3f4757",
   "metadata": {},
   "outputs": [
    {
     "data": {
      "text/plain": [
       "1.0"
      ]
     },
     "execution_count": 5,
     "metadata": {},
     "output_type": "execute_result"
    }
   ],
   "source": [
    "knn = KNearestNeighborsClassifier(n_neighbors=7)\n",
    "knn.fit(X_train, y_train)\n",
    "knn.predict(X_test)\n",
    "knn.score(X_test, y_test)"
   ]
  },
  {
   "cell_type": "code",
   "execution_count": null,
   "id": "cc754173",
   "metadata": {},
   "outputs": [],
   "source": []
  }
 ],
 "metadata": {
  "kernelspec": {
   "display_name": "Python 3 (ipykernel)",
   "language": "python",
   "name": "python3"
  },
  "language_info": {
   "codemirror_mode": {
    "name": "ipython",
    "version": 3
   },
   "file_extension": ".py",
   "mimetype": "text/x-python",
   "name": "python",
   "nbconvert_exporter": "python",
   "pygments_lexer": "ipython3",
   "version": "3.9.7"
  }
 },
 "nbformat": 4,
 "nbformat_minor": 5
}
