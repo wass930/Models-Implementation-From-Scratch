{
 "cells": [
  {
   "cell_type": "code",
   "execution_count": 3,
   "id": "169760c6",
   "metadata": {},
   "outputs": [],
   "source": [
    "import numpy as np"
   ]
  },
  {
   "cell_type": "code",
   "execution_count": 4,
   "id": "974783e5",
   "metadata": {},
   "outputs": [],
   "source": [
    "class LinearSVC():\n",
    "    def __init__(self, C=1.0, learning_rate=0.05, n_iterations=1000):\n",
    "        self.C = C\n",
    "        self.learning_rate = learning_rate\n",
    "        self.n_iterations = n_iterations\n",
    "        self.W = None\n",
    "        self.b = None\n",
    "        \n",
    "    def fit(self, X, y):\n",
    "        m,n = X.shape\n",
    "        self.W = np.random.randn(n)\n",
    "        self.b = np.random.randn(1)\n",
    "\n",
    "        for iteration in range(self.n_iterations):\n",
    "            for i in range(m):\n",
    "                loss = max(0, 1 - y[i] * (X[i].dot(self.W) + self.b))\n",
    "                if loss > 0 :\n",
    "                    dW = - self.C * y[i] * X[i]\n",
    "                    db = - self.C * y[i]\n",
    "                    \n",
    "                    self.W -= self.learning_rate * (self.W + dW)\n",
    "                    self.b -= self.learning_rate * self.b\n",
    "                           \n",
    "    def predict(self, X):\n",
    "        if self.W is None or self.b is None:\n",
    "            raise ValueError(\"Model not fitted yet\")\n",
    "        pred = X.dot(self.W) + self.b\n",
    "        return np.sign(pred)\n",
    "    \n",
    "    def score(self, X, y):\n",
    "        y_pred = self.predict(X)\n",
    "        l = [y_pred[i] == y[i] for i in range(len(y))]\n",
    "        return (sum(l)/len(l))"
   ]
  },
  {
   "cell_type": "code",
   "execution_count": 5,
   "id": "79224d4c",
   "metadata": {},
   "outputs": [],
   "source": [
    "from sklearn.datasets import load_iris \n",
    "from sklearn.model_selection import train_test_split\n",
    "\n",
    "irisData = load_iris() \n",
    "  \n",
    "X = irisData.data \n",
    "y = irisData.target\n",
    "\n",
    "X_train, X_test, y_train, y_test = train_test_split(X, y, test_size=0.2, random_state=0)"
   ]
  },
  {
   "cell_type": "code",
   "execution_count": null,
   "id": "d3715ed8",
   "metadata": {},
   "outputs": [],
   "source": [
    "svc = LinearSVC()\n",
    "svc.fit(X_train, y_train)\n",
    "svc.predict(X_test)\n",
    "svc.score(X_test, y_test)"
   ]
  },
  {
   "cell_type": "code",
   "execution_count": null,
   "id": "b63e66c0",
   "metadata": {},
   "outputs": [],
   "source": []
  }
 ],
 "metadata": {
  "kernelspec": {
   "display_name": "Python 3 (ipykernel)",
   "language": "python",
   "name": "python3"
  },
  "language_info": {
   "codemirror_mode": {
    "name": "ipython",
    "version": 3
   },
   "file_extension": ".py",
   "mimetype": "text/x-python",
   "name": "python",
   "nbconvert_exporter": "python",
   "pygments_lexer": "ipython3",
   "version": "3.9.7"
  }
 },
 "nbformat": 4,
 "nbformat_minor": 5
}
