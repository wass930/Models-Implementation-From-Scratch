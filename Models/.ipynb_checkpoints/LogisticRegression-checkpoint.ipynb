{
 "cells": [
  {
   "cell_type": "code",
   "execution_count": 2,
   "id": "3ef0d884",
   "metadata": {},
   "outputs": [],
   "source": [
    "import pandas as pd\n",
    "import numpy as np"
   ]
  },
  {
   "cell_type": "code",
   "execution_count": 15,
   "id": "9eba4f82",
   "metadata": {},
   "outputs": [],
   "source": [
    "class LogisticRegression:\n",
    "    def __init__(self, n_iterations=100, learning_rate=0.05):\n",
    "        self._n_iterations = n_iterations\n",
    "        self._learning_rate = learning_rate\n",
    "    \n",
    "    def fit(self, X, y):\n",
    "        self.m, self.n = X.shape\n",
    "        self.X = np.concatenate((X, np.ones((self.m, 1))), axis=1)\n",
    "        self.y = y\n",
    "        self.W = np.random.rand(self.n + 1)\n",
    "        for i in range(self._n_iterations):\n",
    "            self._update_weights()\n",
    "            \n",
    "    def _update_weights(self):\n",
    "        Z = 1 / (1 + np.exp(-self.X.dot(self.W)))\n",
    "        cost = np.sum(self.y * np.log(Z) + (1 - self.y) * np.log(1 - Z)) / self.m\n",
    "        gradient = self.X.T.dot(Z - self.y) / self.m\n",
    "        self.W -= self._learning_rate * gradient\n",
    "        \n",
    "    def predict(self, X):\n",
    "        Z = 1 / (1 + np.exp(-X.dot(self.W)))\n",
    "        y_pred = np.where(Z > 0.5, 1, 0)\n",
    "        return y_pred\n",
    "    \n",
    "    def score(self, X, y):\n",
    "        y_pred = self.predict(X)\n",
    "        l = [y_pred[i] == y[i] for i in range(len(y))]\n",
    "        return (sum(l)/len(l))"
   ]
  },
  {
   "cell_type": "code",
   "execution_count": 22,
   "id": "d8e35315",
   "metadata": {},
   "outputs": [],
   "source": [
    "from sklearn.datasets import load_iris \n",
    "from sklearn.model_selection import train_test_split\n",
    "\n",
    "irisData = load_iris() \n",
    "  \n",
    "X = irisData.data \n",
    "y = irisData.target\n",
    "\n",
    "X_train, X_test, y_train, y_test = train_test_split(X, y, test_size=0.2, random_state=0)"
   ]
  },
  {
   "cell_type": "code",
   "execution_count": null,
   "id": "14517778",
   "metadata": {},
   "outputs": [],
   "source": [
    "logistic = LogisticRegression()\n",
    "logistic.fit(X_train, y_train)\n",
    "logistic.predict(X_test)\n",
    "logistic.score(X_test, y_test)"
   ]
  }
 ],
 "metadata": {
  "kernelspec": {
   "display_name": "Python 3 (ipykernel)",
   "language": "python",
   "name": "python3"
  },
  "language_info": {
   "codemirror_mode": {
    "name": "ipython",
    "version": 3
   },
   "file_extension": ".py",
   "mimetype": "text/x-python",
   "name": "python",
   "nbconvert_exporter": "python",
   "pygments_lexer": "ipython3",
   "version": "3.9.7"
  }
 },
 "nbformat": 4,
 "nbformat_minor": 5
}
