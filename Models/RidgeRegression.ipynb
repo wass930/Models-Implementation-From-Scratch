{
 "cells": [
  {
   "cell_type": "code",
   "execution_count": 3,
   "id": "fbb3d69e",
   "metadata": {},
   "outputs": [],
   "source": [
    "import pandas as pd\n",
    "import numpy as np"
   ]
  },
  {
   "cell_type": "code",
   "execution_count": 4,
   "id": "e5f4501d",
   "metadata": {},
   "outputs": [],
   "source": [
    "class LinearRegression:\n",
    "    def __init__(self, n_iterations=1000, learning_rate=0.01):\n",
    "        self._n_iterations = n_iterations\n",
    "        self._learning_rate = learning_rate\n",
    "    \n",
    "    def fit(self, X, y):\n",
    "        self.m, self.n = X.shape\n",
    "        self.W = np.random.rand(self.n+1)\n",
    "        self.X = np.hstack((X,np.ones((self.m,1))))\n",
    "        self.y = y\n",
    "    \n",
    "        for i in range(self._n_iterations):\n",
    "            y_pred = self.predict(self.X)\n",
    "            self.update_weights(y_pred)\n",
    "        return self\n",
    "            \n",
    "    def predict(self, X):\n",
    "        return self.X.dot(self.W)\n",
    "    \n",
    "    def score(self, X, y):\n",
    "        return 1 - (np.sum((self.predict(X)-y)**2) / np.sum((y-y.mean())**2))        \n",
    "    \n",
    "    def update_weights(self, y_pred):\n",
    "        cost = np.sum((y_pred-self.y)**2) / 2*self.m\n",
    "        dW = self.X.T.dot(y_pred-y) / self.m\n",
    "        self.W -= self._learning_rate * dW\n",
    "        return self"
   ]
  },
  {
   "cell_type": "code",
   "execution_count": 5,
   "id": "d722079b",
   "metadata": {},
   "outputs": [],
   "source": [
    "class RidgeRegression:\n",
    "    def __init__(self, n_iterations=1000, learning_rate=0.01, alpha=1.0):\n",
    "        self._n_iterations = n_iterations\n",
    "        self._learning_rate = learning_rate\n",
    "        self._alpha=alpha\n",
    "    \n",
    "    def fit(self, X, y):\n",
    "        self.m, self.n = X.shape\n",
    "        self.W = np.random.rand(self.n+1)\n",
    "        self.X = np.hstack((X,np.ones((self.m,1))))\n",
    "        self.y = y\n",
    "    \n",
    "        for i in range(self._n_iterations):\n",
    "            y_pred = self.predict(self.X)\n",
    "            self.update_weights(y_pred)\n",
    "        return self\n",
    "            \n",
    "    def predict(self, X):\n",
    "        return self.X.dot(self.W)\n",
    "    \n",
    "    def score(self, X, y):\n",
    "        return 1 - (np.sum((self.predict(X)-y)**2) / np.sum((y-y.mean())**2))        \n",
    "    \n",
    "    def update_weights(self, y_pred):\n",
    "        cost = np.sum((y_pred-self.y)**2) / (2*self.m) + self._alpha * np.sum(self.W **2)\n",
    "        dW = (self.X.T.dot(y_pred-y) / self.m) + (self._alpha * self.W) \n",
    "        self.W -= self._learning_rate * dW\n",
    "        return self"
   ]
  },
  {
   "cell_type": "code",
   "execution_count": 6,
   "id": "01f7aa2c",
   "metadata": {},
   "outputs": [],
   "source": [
    "class LassoRegression:\n",
    "    def __init__(self, n_iterations=1000, learning_rate=0.01, alpha=1.0):\n",
    "        self._n_iterations = n_iterations\n",
    "        self._learning_rate = learning_rate\n",
    "        self._alpha=alpha\n",
    "    \n",
    "    def fit(self, X, y):\n",
    "        self.m, self.n = X.shape\n",
    "        self.W = np.random.rand(self.n+1)\n",
    "        self.X = np.hstack((X,np.ones((self.m,1))))\n",
    "        self.y = y\n",
    "    \n",
    "        for i in range(self._n_iterations):\n",
    "            y_pred = self.predict(self.X)\n",
    "            self.update_weights(y_pred)\n",
    "        return self\n",
    "            \n",
    "    def predict(self, X):\n",
    "        return self.X.dot(self.W)\n",
    "    \n",
    "    def score(self, X, y):\n",
    "        return 1 - (np.sum((self.predict(X)-y)**2) / np.sum((y-y.mean())**2))        \n",
    "    \n",
    "    def update_weights(self, y_pred):\n",
    "        cost = np.sum((y_pred-self.y)**2) / (2*self.m) + self._alpha * np.sum(np.abs(self.W))\n",
    "        dW = (self.X.T.dot(y_pred-y) / self.m) + (self._alpha * np.sign(self.W)) \n",
    "        self.W -= self._learning_rate * dW\n",
    "        return self"
   ]
  },
  {
   "cell_type": "code",
   "execution_count": 7,
   "id": "5e0d0b92",
   "metadata": {},
   "outputs": [
    {
     "data": {
      "text/plain": [
       "array([  30.62116643,   80.77226464,  -63.78492433,  -20.37724864,\n",
       "        -49.32673024,  -49.25338569,   31.3772773 ,   10.7273333 ,\n",
       "        -14.29969933,   -5.62916235,   19.17106821,   -6.28907527,\n",
       "         31.16704249,   12.0244524 ,  -51.31241977,   -0.70572042,\n",
       "        116.66756352,  -18.68532385,    2.58253067,  -54.876436  ,\n",
       "         29.96521309,   48.25018412,  -15.34593403,   49.34836167,\n",
       "         32.03703595,   -6.62381057,  -34.554713  ,   -8.68072068,\n",
       "        -88.23980496,  -61.60035146,   63.21256964,   27.93759623,\n",
       "         69.90442184,  -30.39798934,  -23.29744055,  -65.39265194,\n",
       "       -104.34430918,   60.34034999,   32.71720548,   -4.17880025,\n",
       "        -46.00042745,   13.08130408,   17.56839634,    9.86994366,\n",
       "        -74.35509623,  -61.41945185,   81.39618151,  -78.64295056,\n",
       "         75.39172553,  106.17251296,  -12.67772374,   15.13501905,\n",
       "        -78.23839352,  -75.06881782,   38.8845954 ,  -19.16897245,\n",
       "         -6.35612113,   12.7412446 ,   42.02623678,   22.87729505,\n",
       "         84.06894131,   11.33867537,    8.58849267,    8.71696449,\n",
       "         48.79838807,   61.3510084 ,  -70.9922778 ,  -74.75538946,\n",
       "         48.61446543,   22.55615037,  -23.82654558,   -2.16465638,\n",
       "        -51.0849083 ,   25.04731852,   95.49059796,  -30.46777015,\n",
       "         81.02542724,   70.57955009,   -5.17851327,   86.52764115,\n",
       "        -34.68306157,  -46.30853222,   -1.00705121,   32.17874325,\n",
       "        -32.24962068,  -86.4792129 ,   17.12030257,  -65.85282091,\n",
       "         24.07759692,  -23.94458454,   -2.64683001,   12.82160274,\n",
       "         11.365869  ,  -12.74425112,  -13.3645845 ,   68.18835655,\n",
       "          7.85012504,  -31.05652504,   48.46787814,   -6.36227373])"
      ]
     },
     "execution_count": 7,
     "metadata": {},
     "output_type": "execute_result"
    }
   ],
   "source": [
    "from sklearn.datasets import make_regression\n",
    "\n",
    "X, y = make_regression(n_features=1, noise=15)\n",
    "y"
   ]
  },
  {
   "cell_type": "code",
   "execution_count": 8,
   "id": "f4e6eb64",
   "metadata": {},
   "outputs": [
    {
     "data": {
      "text/plain": [
       "array([ 12.13801725,  39.34399458, -29.7510516 , -16.95871557,\n",
       "       -16.44843329, -31.71379591,  19.86052537,  12.59986723,\n",
       "        -3.98318036,   2.75767326,  13.50801614,  -1.85055053,\n",
       "        21.65506744,  -2.8414809 , -14.76081131,  -3.55735442,\n",
       "        60.92877672, -11.82304118,   3.93043829, -32.13795089,\n",
       "        19.22781555,  28.70161419, -14.9317604 ,  28.63213685,\n",
       "        26.21035337, -13.59088783, -20.88453101,   6.92755368,\n",
       "       -56.23955522, -23.03036087,  38.94378632,  11.79687325,\n",
       "        34.91802876, -29.85882058, -16.85508361, -34.73702819,\n",
       "       -37.25242775,  34.37467861,   4.98883903,  -7.86553079,\n",
       "       -27.82464262,  11.07924691,  20.36796848,   4.78673855,\n",
       "       -38.23097495, -29.8233478 ,  43.68069834, -22.99382013,\n",
       "        20.4323397 ,  69.60403003, -20.9830665 ,  -1.50379021,\n",
       "       -25.42007057, -27.43227229,  17.29148094,  -3.491278  ,\n",
       "         1.64333126,  12.10454353,  17.41772904,   6.76407579,\n",
       "        51.84386118,   6.86539711,  -4.47872789,  -0.27613774,\n",
       "        38.27373661,  34.05708084, -48.73070756, -46.81913019,\n",
       "        22.66096959,   8.75627731,  -8.08043122, -14.76703706,\n",
       "       -26.74931342,  24.80873152,  57.19007799, -18.57631334,\n",
       "        53.15184102,  43.26349825,  -8.02178299,  39.96563257,\n",
       "       -11.42258264, -21.38286608,  -1.64081546,  10.06143098,\n",
       "       -11.11651995, -43.96070798,  27.49219171, -35.46691444,\n",
       "        13.88206617, -12.43406069,   2.33784869,   0.61621678,\n",
       "        24.50254929, -11.39124311,  -6.99562183,  34.04552161,\n",
       "        -2.76004122,  -2.05038951,  36.71100388,   1.15079395])"
      ]
     },
     "execution_count": 8,
     "metadata": {},
     "output_type": "execute_result"
    }
   ],
   "source": [
    "ridge = RidgeRegression()\n",
    "ridge.fit(X, y)\n",
    "ridge.predict(X)"
   ]
  },
  {
   "cell_type": "code",
   "execution_count": 9,
   "id": "c78985e4",
   "metadata": {},
   "outputs": [
    {
     "data": {
      "text/plain": [
       "array([  19.52324493,   67.21002259,  -53.9001314 ,  -31.4776587 ,\n",
       "        -30.58323328,  -57.34043977,   33.05929708,   20.33277796,\n",
       "         -8.73407354,    3.08132952,   21.92458607,   -4.99598896,\n",
       "         36.20477969,   -6.73289682,  -27.62516076,   -7.98768364,\n",
       "        105.04394026,  -22.4758221 ,    5.13695812,  -58.08390081,\n",
       "         31.95028003,   48.55600325,  -27.92480122,   48.434223  ,\n",
       "         44.18930841,  -25.57451284,  -38.3588483 ,   10.39031747,\n",
       "       -100.32931743,  -42.12006996,   66.50853547,   18.92528598,\n",
       "         59.45216683,  -54.08902943,  -31.29601208,  -62.63957695,\n",
       "        -67.04858229,   58.49977987,    6.99212841,  -15.53907743,\n",
       "        -50.52351179,   17.66742681,   33.94874597,    6.63788565,\n",
       "        -68.76378487,  -54.02685256,   74.81141935,  -42.05602117,\n",
       "         34.06157618,  120.24996909,  -38.53156182,   -4.38818567,\n",
       "        -46.30876547,  -49.83576304,   28.55626272,   -7.87186455,\n",
       "          1.12810511,   19.46457203,   28.77755104,   10.10377257,\n",
       "         89.11985335,   10.2813691 ,   -9.6026718 ,   -2.23635009,\n",
       "         65.33406889,   57.94309286,  -87.16777045,  -83.81714775,\n",
       "         37.96793017,   13.5957137 ,  -15.91575602,  -27.6360733 ,\n",
       "        -48.63866921,   41.73253839,   98.4907298 ,  -34.31299243,\n",
       "         91.41248717,   74.08014887,  -15.8129571 ,   68.29963287,\n",
       "        -21.7738963 ,  -39.23233259,   -4.62836424,   15.88339379,\n",
       "        -21.23742804,  -78.80689054,   46.43612127,  -63.91892533,\n",
       "         22.58022289,  -23.54682026,    2.34545884,   -0.67222647,\n",
       "         41.19586058,  -21.71896421,  -14.01429651,   57.92283178,\n",
       "         -6.59014893,   -5.34626776,   62.59490288,    0.26478315])"
      ]
     },
     "execution_count": 9,
     "metadata": {},
     "output_type": "execute_result"
    }
   ],
   "source": [
    "lr = LinearRegression()\n",
    "lr.fit(X, y)\n",
    "lr.predict(X)"
   ]
  },
  {
   "cell_type": "code",
   "execution_count": 10,
   "id": "970ca18a",
   "metadata": {},
   "outputs": [
    {
     "data": {
      "text/plain": [
       "array([ 20.16482021,  66.86854109, -51.74494268, -29.78470636,\n",
       "       -28.90871941, -55.11432952,  33.42182839,  20.95766482,\n",
       "        -7.50997727,   4.06185277,  22.51665801,  -3.84895283,\n",
       "        36.50246728,  -5.55005456, -26.01162717,  -6.77897411,\n",
       "       103.92251742, -20.96844146,   6.07510485, -55.84246422,\n",
       "        32.33567358,  48.59907196, -26.30509058,  48.47980219,\n",
       "        44.32239597, -24.00325309, -36.52404112,  11.22016687,\n",
       "       -97.21699701, -40.20772568,  66.18151504,  19.5791881 ,\n",
       "        59.27061253, -51.92994659, -29.60680436, -60.30422567,\n",
       "       -64.62233994,  58.3378589 ,   7.89203105, -14.17469689,\n",
       "       -48.43793164,  18.34725955,  34.29294141,   7.54509095,\n",
       "       -66.30218384, -51.86905149,  74.31323604, -40.14499725,\n",
       "        34.40344563, 118.81507593, -36.69319417,  -3.25367932,\n",
       "       -44.31007178, -47.76436075,  29.01162351,  -6.66554262,\n",
       "         2.14889383,  20.10735684,  29.22834999,  10.93952906,\n",
       "        88.32670351,  11.11346446,  -8.3606695 ,  -1.14620356,\n",
       "        65.03125993,  57.79264793, -84.32677363, -81.04522359,\n",
       "        38.22927064,  14.35948427, -14.5436103 , -26.02231475,\n",
       "       -46.59194484,  41.91627195,  97.50440055, -32.56159005,\n",
       "        90.57207498,  73.5970406 , -14.44293056,  67.93568919,\n",
       "       -20.28098577, -37.37951865,  -3.48890664,  16.60000414,\n",
       "       -19.75557673, -76.13825218,  46.52289107, -61.55720045,\n",
       "        23.15877896, -22.01736113,   3.34115197,   0.38567586,\n",
       "        41.39065768, -20.2271861 , -12.68134914,  57.77280453,\n",
       "        -5.4102494 ,  -4.19201068,  62.34856148,   1.30336914])"
      ]
     },
     "execution_count": 10,
     "metadata": {},
     "output_type": "execute_result"
    }
   ],
   "source": [
    "lasso = LassoRegression()\n",
    "lasso.fit(X, y)\n",
    "lasso.predict(X)"
   ]
  },
  {
   "cell_type": "code",
   "execution_count": 12,
   "id": "be12ff7c",
   "metadata": {},
   "outputs": [
    {
     "data": {
      "text/plain": [
       "<matplotlib.legend.Legend at 0x21889608790>"
      ]
     },
     "execution_count": 12,
     "metadata": {},
     "output_type": "execute_result"
    },
    {
     "data": {
      "image/png": "[encoded data removed]",
      "text/plain": [
       "<Figure size 432x288 with 1 Axes>"
      ]
     },
     "metadata": {
      "needs_background": "light"
     },
     "output_type": "display_data"
    }
   ],
   "source": [
    "import matplotlib.pyplot as plt\n",
    "\n",
    "plt.scatter(X,y)\n",
    "plt.plot(X, lr.predict(X), c='r', label=\"Linear Regression: {}\".format(round(lr.score(X,y),3)))\n",
    "plt.plot(X, ridge.predict(X), c='y', label=\"Ridge Regression: {}\".format(round(ridge.score(X,y),3)))\n",
    "plt.plot(X, lasso.predict(X), c='g', label=\"Lasso Regression: {}\".format(round(lasso.score(X,y),3)))\n",
    "plt.legend()"
   ]
  },
  {
   "cell_type": "code",
   "execution_count": null,
   "id": "85c4bf21",
   "metadata": {},
   "outputs": [],
   "source": []
  }
 ],
 "metadata": {
  "kernelspec": {
   "display_name": "Python 3 (ipykernel)",
   "language": "python",
   "name": "python3"
  },
  "language_info": {
   "codemirror_mode": {
    "name": "ipython",
    "version": 3
   },
   "file_extension": ".py",
   "mimetype": "text/x-python",
   "name": "python",
   "nbconvert_exporter": "python",
   "pygments_lexer": "ipython3",
   "version": "3.9.7"
  }
 },
 "nbformat": 4,
 "nbformat_minor": 5
}
